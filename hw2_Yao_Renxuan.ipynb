{
 "cells": [
  {
   "cell_type": "code",
   "execution_count": 1,
   "id": "01d4d2bf-5223-4ed5-9170-ea6a77e6f485",
   "metadata": {},
   "outputs": [],
   "source": [
    "import numpy as np\n",
    "import math"
   ]
  },
  {
   "cell_type": "code",
   "execution_count": 2,
   "id": "5740bb8f-bfca-43b8-8671-7825f3017ac8",
   "metadata": {},
   "outputs": [
    {
     "name": "stdout",
     "output_type": "stream",
     "text": [
      "Approximate root for Question 1a: 0.8605632220038446\n",
      "Approximate root for Question 1b: 0.6416015625\n",
      "Approximate root for Question 1c: 1.830078125\n",
      "Approximate root for Question 1d: 0.12109375\n"
     ]
    }
   ],
   "source": [
    "# Section 3.1 Question 1.\n",
    "def bisection(a, b, fx, tol=1e-6, max_iter=10):  #Interval [a, b] and func fx\n",
    "    for i in range(max_iter):\n",
    "        c = (a + b) / 2.0  # Find midpoint\n",
    "        # If the function value at the midpoint is close enough to zero, stop and return\n",
    "        if abs(fx(c)) < tol:\n",
    "            return c\n",
    "        # Check if the new interval is between c and b or a and c\n",
    "        if fx(b) * fx(c) < 0:  # If the signs of f(b) and f(c) are different, root is between c and b\n",
    "            a = c\n",
    "        else:  # Otherwise, the root is between a and c\n",
    "            b = c    \n",
    "    # Return c\n",
    "    return c\n",
    "def func_31_1a(x): #Question 1a function\n",
    "    return x ** -1 - np.tan(x)\n",
    "def func_31_1b(x): #Question 1b function\n",
    "    return x ** -1 - np.power(2, x)\n",
    "def func_31_1c(x): #Question 1c function\n",
    "    return 2 ** (-x) + np.exp(x) + 2 * np.cos(x) - 6\n",
    "def func_31_1d(x): #Question 1d function\n",
    "    return (x ** 3 + 4 * x ** 2 + 3 * x + 5) / (2 * x ** 3 - 9 * x ** 2 + 18 * x - 2)\n",
    "\n",
    "#Question 1a interval\n",
    "Interval_31_1a = [0, math.pi / 2]\n",
    "#Question 1b interval\n",
    "Interval_31_1b = [0, 1]\n",
    "#Question 1c interval\n",
    "Interval_31_1c = [1, 3]\n",
    "#Question 1d interval\n",
    "Interval_31_1d = [0, 4]\n",
    "\n",
    "# Implementations\n",
    "# a.\n",
    "r_31_1a = bisection(Interval_31_1a[0], Interval_31_1a[1], func_31_1a)\n",
    "print(f\"Approximate root for Question 1a: {r_31_1a}\")\n",
    "r_31_1b = bisection(Interval_31_1b[0], Interval_31_1b[1], func_31_1b)\n",
    "print(f\"Approximate root for Question 1b: {r_31_1b}\")\n",
    "r_31_1c = bisection(Interval_31_1c[0], Interval_31_1c[1], func_31_1c)\n",
    "print(f\"Approximate root for Question 1c: {r_31_1c}\")\n",
    "r_31_1d = bisection(Interval_31_1d[0], Interval_31_1d[1], func_31_1d)\n",
    "print(f\"Approximate root for Question 1d: {r_31_1d}\")"
   ]
  },
  {
   "cell_type": "code",
   "execution_count": 3,
   "id": "c12ecc9e-5ec3-4587-a1a8-a67bce4a3f26",
   "metadata": {},
   "outputs": [
    {
     "name": "stdout",
     "output_type": "stream",
     "text": [
      "Approximate root for Question 4a: 6.0\n",
      "Approximate root for Question 4b: 5.5009765625\n"
     ]
    }
   ],
   "source": [
    "# Section 3.1 Question 4.\n",
    "def func_31_4a(x):\n",
    "    return x**8 - 36 * x**7 + 546 * x**6 - 4536 * x**5 + 22449 * x**4 - 67284 * x**3 + 118124 * x **2 - 109584 * x + 40320\n",
    "#Question 4a interval\n",
    "Interval_31_4a = [5.5, 6.5]\n",
    "r_31_4a = bisection(Interval_31_4a[0], Interval_31_4a[1], func_31_4a)\n",
    "print(f\"Approximate root for Question 4a: {r_31_4a}\")\n",
    "\n",
    "def func_31_4b(x):\n",
    "    return x**8 - 36.001 * x**7 + 546 * x**6 - 4536 * x**5 + 22449 * x**4 - 67284 * x**3 + 118124 * x **2 - 109584 * x + 40320\n",
    "#Question 4b interval\n",
    "Interval_31_4b = [5.5, 6.5]\n",
    "r_31_4b = bisection(Interval_31_4b[0], Interval_31_4b[1], func_31_4b)\n",
    "print(f\"Approximate root for Question 4b: {r_31_4b}\")"
   ]
  },
  {
   "cell_type": "code",
   "execution_count": 4,
   "id": "a1aa1898-7cc7-4a8e-8d53-d401708ec5a8",
   "metadata": {},
   "outputs": [
    {
     "name": "stdout",
     "output_type": "stream",
     "text": [
      "Approximate root for Question 4: 4.678573510428322\n"
     ]
    }
   ],
   "source": [
    "# Section 3.2 Question 4\n",
    "def func_32_4(x): # 3.2 Question 4 function\n",
    "    return x**3 - 5 * x**2 + 3 * x - 7\n",
    "def funcp_32_4(x): # 3.2 Question 4 f'\n",
    "    return 3 * x**2 - 10 * x + 3\n",
    "def newtons_method(f, fp, x): # Newton's method\n",
    "    for i in range(0, 10):\n",
    "        x = x - f(x) / fp(x)\n",
    "    return x\n",
    "    \n",
    "print(f\"Approximate root for Question 4: {newtons_method(func_32_4, funcp_32_4, 5)}\")"
   ]
  },
  {
   "cell_type": "code",
   "execution_count": 5,
   "id": "43383b25-7154-47e4-9235-c90fbabc6484",
   "metadata": {},
   "outputs": [
    {
     "name": "stdout",
     "output_type": "stream",
     "text": [
      "1th root for Question 9: 4.670982097488351\n",
      "2th root for Question 9: 7.815361186289511\n",
      "3th root for Question 9: 10.959505103194472\n",
      "4th root for Question 9: 14.103432190464908\n",
      "5th root for Question 9: 17.24716002708941\n",
      "6th root for Question 9: 20.3907053230031\n",
      "7th root for Question 9: 23.534083839837326\n",
      "8th root for Question 9: 26.677310338168002\n",
      "9th root for Question 9: 29.82039854986247\n",
      "10th root for Question 9: 32.96336117306213\n",
      "Test if the result is close enough to 1/10: True\n"
     ]
    }
   ],
   "source": [
    "# Section 3.2 Question 9\n",
    "def func_32_9(x): # 3.2 Question 9 function\n",
    "    return np.sin(x) / np.cos(x) - x\n",
    "def steffensens_method(f, x, tol=1e-10, max_iter=30): # Steffensen's method\n",
    "    for i in range(max_iter):\n",
    "        fx = f(x)\n",
    "        if abs(fx) < tol:  # If function value is close to zero, return the current root\n",
    "            return x\n",
    "        try:\n",
    "            if fx > 1: #This part protects the iteration is inside the current domain\n",
    "                denominator = (np.power(10,6) - fx) / fx\n",
    "            else:\n",
    "                denominator = (f(x + fx) - fx) / fx\n",
    "            if abs(denominator) < tol:  # Avoid division by very small numbers\n",
    "                return x\n",
    "            x_new = x - fx / denominator\n",
    "        except ZeroDivisionError:\n",
    "            print(f\"Division by zero occurred at iteration {i}\")\n",
    "            return x\n",
    "        if abs(x_new - x) < tol:  # Check for convergence\n",
    "            return x_new\n",
    "        x = x_new\n",
    "    return x\n",
    "\n",
    "# Loop for first 10 root\n",
    "# Choose (k + 1/2) * pi - e as kth starting x0, since all the positive roots are betweem pi * k and pi * (k + 1/2), where k = 1, 2, 3, ...\n",
    "num_root = 10\n",
    "root_list = [0] * num_root\n",
    "for k in range(1, num_root + 1):\n",
    "    e = 0.01 # Small offset to avoid singularities at exact multiples of pi/2\n",
    "    x0 = ((k + 0.5) * np.pi) - e  # Initial guess near (k + 1/2) * pi and translate to degree\n",
    "    x = steffensens_method(func_32_9, x0)\n",
    "    print(f\"{k}th root for Question 9: {x}\")\n",
    "    root_list[k-1] = x\n",
    "# Test\n",
    "def func_32_9_test(list):\n",
    "    sum = 0\n",
    "    for i in range(0, len(list)):\n",
    "        sum += list[i]**-2 # Euquation for sum of roots^-2\n",
    "    return sum\n",
    "print(f\"Test if the result is close enough to 1/10: {(np.abs(func_32_9_test(root_list) - 0.1)) < 0.02}\")"
   ]
  },
  {
   "cell_type": "code",
   "execution_count": 6,
   "id": "61abe7c9-a8e1-4a17-8323-1592a6008c56",
   "metadata": {},
   "outputs": [
    {
     "name": "stdout",
     "output_type": "stream",
     "text": [
      "Approximate root for Question 1.a: 3.141593719781325\n",
      "Approximate root for Question 1.b: 1.30632694042389\n",
      "Approximate root for Question 1.c: 0.4515432242287132\n"
     ]
    }
   ],
   "source": [
    "# Section 3.3 Question 1\n",
    "def secant_method(f, x0, x1, tol=1e-6, max_iter=100):\n",
    "    for i in range(max_iter):\n",
    "        # Calculate the value of the function at x0 and x1\n",
    "        f_x0 = f(x0)\n",
    "        f_x1 = f(x1)\n",
    "        # Avoid division by zero\n",
    "        if f_x1 - f_x0 == 0:\n",
    "            print(\"Division by zero encountered in Secant Method\")\n",
    "            return None\n",
    "        # Calculate the next approximation using the secant formula\n",
    "        x2 = x1 - f_x1 * (x1 - x0) / (f_x1 - f_x0)\n",
    "        # Check for convergence\n",
    "        if abs(x2 - x1) < tol:\n",
    "            return x2\n",
    "        # Update the points for the next iteration\n",
    "        x0, x1 = x1, x2\n",
    "    return x1\n",
    "def func_33_1_a(x): # 3.3 Question 1.a function\n",
    "    return np.sin(x/2) - 1\n",
    "def func_33_1_b(x): # 3.3 Question 1.b function\n",
    "    return np.exp(x) - np.tan(x)\n",
    "def func_33_1_c(x): # 3.3 Question 1.c function\n",
    "    return x**3 - 12*x**2 + 3*x + 1\n",
    "\n",
    "print(f\"Approximate root for Question 1.a: {secant_method(func_33_1_a, 2, 4)}\")\n",
    "print(f\"Approximate root for Question 1.b: {secant_method(func_33_1_b, 2, 4)}\")\n",
    "print(f\"Approximate root for Question 1.c: {secant_method(func_33_1_c, 2, 4)}\")"
   ]
  },
  {
   "cell_type": "code",
   "execution_count": 7,
   "id": "649b8732-bbd0-4729-9849-e6ceb419cefd",
   "metadata": {},
   "outputs": [
    {
     "name": "stdout",
     "output_type": "stream",
     "text": [
      "Approximate root for Question 1.a: 3.4044018085952406\n",
      "Approximate root for Question 1.b: 4.288292721944063\n",
      "Approximate root for Question 1.c: 0.4515432242315576\n"
     ]
    }
   ],
   "source": [
    "# Section 3.3 Question 2\n",
    "def secant_method_once(fx, x0, x1):\n",
    "    for i in range(1):\n",
    "        # Calculate the value of the function at x0 and x1\n",
    "        f_x0 = fx(x0)\n",
    "        f_x1 = fx(x1)\n",
    "        # Avoid division by zero\n",
    "        if f_x1 - f_x0 == 0:\n",
    "            print(\"Division by zero encountered in Secant Method\")\n",
    "            return None\n",
    "        # Calculate the next approximation using the secant formula\n",
    "        x2 = x1 - f_x1 * (x1 - x0) / (f_x1 - f_x0)\n",
    "    return x2\n",
    "def newtons_method_approx(f, fp_approx, x2, x1, x0): # Newton's method\n",
    "    for i in range(0, 10):\n",
    "        x = x2 - f(x2) / fp_approx(f, x2, x1, x0)\n",
    "        x0 = x1\n",
    "        x1 = x2\n",
    "        x2 = x\n",
    "    return x\n",
    "def fp_approx(f, x, h, k): \n",
    "    # Finite difference approximation\n",
    "    numerator = (k**2 * f(x + h)) - (h**2 * f(x + k)) + ((h**2 - k**2) * f(x))\n",
    "    denominator = (k - h) * k * h\n",
    "    return numerator / denominator\n",
    "def func_33_1_a(x): # 3.3 Question 1.a function\n",
    "    return np.sin(x/2) - 1\n",
    "def func_33_1_b(x): # 3.3 Question 1.b function\n",
    "    return np.exp(x) - np.tan(x)\n",
    "def func_33_1_c(x): # 3.3 Question 1.c function\n",
    "    return x**3 - 12*x**2 + 3*x + 1\n",
    "def method_33_2(fx, h, k):\n",
    "    x = secant_method_once(fx, h, k)\n",
    "    # find x by applying secant method once\n",
    "    return newtons_method_approx(fx, fp_approx, x, k, h)\n",
    "print(f\"Approximate root for Question 1.a: {method_33_2(func_33_1_a, 2, 4)}\")\n",
    "print(f\"Approximate root for Question 1.b: {method_33_2(func_33_1_b, 2, 4)}\")\n",
    "print(f\"Approximate root for Question 1.c: {method_33_2(func_33_1_c, 2, 4)}\")"
   ]
  },
  {
   "cell_type": "code",
   "execution_count": null,
   "id": "e21b3e83-9d38-475c-92a2-c165df8c035a",
   "metadata": {},
   "outputs": [],
   "source": []
  }
 ],
 "metadata": {
  "kernelspec": {
   "display_name": "Python 3 (ipykernel)",
   "language": "python",
   "name": "python3"
  },
  "language_info": {
   "codemirror_mode": {
    "name": "ipython",
    "version": 3
   },
   "file_extension": ".py",
   "mimetype": "text/x-python",
   "name": "python",
   "nbconvert_exporter": "python",
   "pygments_lexer": "ipython3",
   "version": "3.11.4"
  }
 },
 "nbformat": 4,
 "nbformat_minor": 5
}
